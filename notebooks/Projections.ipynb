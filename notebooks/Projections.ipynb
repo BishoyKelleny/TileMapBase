{
 "cells": [
  {
   "cell_type": "markdown",
   "metadata": {},
   "source": [
    "# Projections\n",
    "\n",
    "Web mapping tools using tiles use a variant of the Mercator Projection.\n",
    "- [OpenStreetMap Wiki](http://wiki.openstreetmap.org/wiki/Slippy_map_tilenames)\n",
    "- [Mercator projection](https://en.wikipedia.org/wiki/Mercator_projection)\n",
    "- [Web Mercator](https://en.wikipedia.org/wiki/Web_Mercator)\n",
    "\n",
    "This can lead to some significant distortions: you can see this for yourself by zooming out in google maps, and scrolling around.  The scale (bottom right) will change, depending on where you are on the globe.  Locally, the distortion is not too bad, but tiles from different areas of the globe cannot be directly compared.\n",
    "\n",
    "Internally, the projection maps the whole globe (between latitudes about -85 to 85 degrees) to a unit square:"
   ]
  },
  {
   "cell_type": "code",
   "execution_count": 1,
   "metadata": {
    "collapsed": false
   },
   "outputs": [
    {
     "data": {
      "image/png": "[encoded data removed]",
      "text/plain": [
       "<PIL.PngImagePlugin.PngImageFile image mode=P size=256x256 at 0x23110809A58>"
      ]
     },
     "execution_count": 1,
     "metadata": {},
     "output_type": "execute_result"
    }
   ],
   "source": [
    "import tilemapbase\n",
    "tilemapbase.start_logging()\n",
    "tilemapbase.tiles.OSM.get_tile(0,0,0)"
   ]
  },
  {
   "cell_type": "markdown",
   "metadata": {},
   "source": [
    "## Comparison to standards\n",
    "\n",
    "The standards [EPSG:3857](http://spatialreference.org/ref/sr-org/6864/) or [EPSG:3785](http://spatialreference.org/ref/epsg/popular-visualisation-crs-mercator/) are mentioned in relation to the \"web mercator\" projection.\n",
    "\n",
    "The following (reproduced in `tilemapbase`) shows that the projections are the same, up to a rescaling, and flipping the y axis.\n",
    "\n",
    "(It is curious to compare the text in the above two links, which to a causual reader might warn against using 3857 while 3785 is fine; they are both idential...)"
   ]
  },
  {
   "cell_type": "code",
   "execution_count": 2,
   "metadata": {
    "collapsed": true
   },
   "outputs": [],
   "source": [
    "import pyproj\n",
    "p3857 = pyproj.Proj({\"init\": \"epsg:3857\"})\n",
    "p3785 = pyproj.Proj({\"init\": \"epsg:3785\"})"
   ]
  },
  {
   "cell_type": "code",
   "execution_count": 3,
   "metadata": {
    "collapsed": false
   },
   "outputs": [],
   "source": [
    "scale = 20037508.342789244\n",
    "\n",
    "def rescale(x, y):\n",
    "    return ((x - 0.5) * 2 * scale, (0.5 - y) * 2 * scale)\n",
    "\n",
    "import random, math\n",
    "\n",
    "diffs = []\n",
    "for _ in range(10000):\n",
    "    x = random.random() * 360 - 180\n",
    "    y = random.random() * 170 - 85\n",
    "\n",
    "    assert p3857(x, y) == p3785(x, y)\n",
    "    xx, yy = p3857(x, y)\n",
    "    xxx, yyy = rescale(*tilemapbase.project(x, y))\n",
    "    diffs.append( math.sqrt((xx - xxx)**2 + (yy - yyy)**2) )"
   ]
  },
  {
   "cell_type": "code",
   "execution_count": 4,
   "metadata": {
    "collapsed": false
   },
   "outputs": [
    {
     "data": {
      "text/plain": [
       "(3.0920470509839554e-07, 4.942824126267871e-09)"
      ]
     },
     "execution_count": 4,
     "metadata": {},
     "output_type": "execute_result"
    }
   ],
   "source": [
    "max(diffs), sum(diffs) / 10000"
   ]
  },
  {
   "cell_type": "code",
   "execution_count": null,
   "metadata": {
    "collapsed": true
   },
   "outputs": [],
   "source": []
  }
 ],
 "metadata": {
  "kernelspec": {
   "display_name": "Python 3",
   "language": "python",
   "name": "python3"
  },
  "language_info": {
   "codemirror_mode": {
    "name": "ipython",
    "version": 3
   },
   "file_extension": ".py",
   "mimetype": "text/x-python",
   "name": "python",
   "nbconvert_exporter": "python",
   "pygments_lexer": "ipython3",
   "version": "3.6.0"
  }
 },
 "nbformat": 4,
 "nbformat_minor": 2
}
