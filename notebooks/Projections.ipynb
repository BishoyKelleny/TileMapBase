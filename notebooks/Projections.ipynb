{
 "cells": [
  {
   "cell_type": "markdown",
   "metadata": {},
   "source": [
    "# Projections\n",
    "\n",
    "Web mapping tools using tiles use a variant of the Mercator Projection.\n",
    "- [OpenStreetMap Wiki](http://wiki.openstreetmap.org/wiki/Slippy_map_tilenames)\n",
    "- [Mercator projection](https://en.wikipedia.org/wiki/Mercator_projection)\n",
    "- [Web Mercator](https://en.wikipedia.org/wiki/Web_Mercator)\n",
    "\n",
    "This can lead to some significant distortions: you can see this for yourself by zooming out in google maps, and scrolling around.  The scale (bottom right) will change, depending on where you are on the globe.  Locally, the distortion is not too bad, but tiles from different areas of the globe cannot be directly compared.\n",
    "\n",
    "Internally, the projection maps the whole globe (between latitudes about -85 to 85 degrees) to a unit square:"
   ]
  },
  {
   "cell_type": "code",
   "execution_count": 1,
   "metadata": {},
   "outputs": [
    {
     "data": {
      "image/png": "[encoded data removed]",
      "text/plain": [
       "<PIL.PngImagePlugin.PngImageFile image mode=P size=256x256 at 0x1E371232A58>"
      ]
     },
     "execution_count": 1,
     "metadata": {},
     "output_type": "execute_result"
    }
   ],
   "source": [
    "import tilemapbase\n",
    "tilemapbase.start_logging()\n",
    "tilemapbase.tiles.build_OSM().get_tile(0,0,0)"
   ]
  },
  {
   "cell_type": "markdown",
   "metadata": {},
   "source": [
    "## Comparison to standards\n",
    "\n",
    "The standards [EPSG:3857](http://spatialreference.org/ref/sr-org/6864/) or [EPSG:3785](http://spatialreference.org/ref/epsg/popular-visualisation-crs-mercator/) are mentioned in relation to the \"web mercator\" projection.\n",
    "\n",
    "The following (reproduced in `tilemapbase`) shows that the projections are the same, up to a rescaling, and flipping the y axis.\n",
    "\n",
    "(It is curious to compare the text in the above two links, which to a causual reader might warn against using 3857 while 3785 is fine; they are both identical...)"
   ]
  },
  {
   "cell_type": "code",
   "execution_count": 2,
   "metadata": {
    "collapsed": true
   },
   "outputs": [],
   "source": [
    "import pyproj\n",
    "p3857 = pyproj.Proj({\"init\": \"epsg:3857\"})\n",
    "p3785 = pyproj.Proj({\"init\": \"epsg:3785\"})"
   ]
  },
  {
   "cell_type": "code",
   "execution_count": 3,
   "metadata": {},
   "outputs": [],
   "source": [
    "scale = 20037508.342789244\n",
    "\n",
    "def rescale(x, y):\n",
    "    return ((x - 0.5) * 2 * scale, (0.5 - y) * 2 * scale)\n",
    "\n",
    "import random, math\n",
    "\n",
    "diffs = []\n",
    "for _ in range(10000):\n",
    "    x = random.random() * 360 - 180\n",
    "    y = random.random() * 170 - 85\n",
    "\n",
    "    assert p3857(x, y) == p3785(x, y)\n",
    "    xx, yy = p3857(x, y)\n",
    "    xxx, yyy = rescale(*tilemapbase.project(x, y))\n",
    "    diffs.append( math.sqrt((xx - xxx)**2 + (yy - yyy)**2) )"
   ]
  },
  {
   "cell_type": "code",
   "execution_count": 4,
   "metadata": {},
   "outputs": [
    {
     "data": {
      "text/plain": [
       "(3.129243850708008e-07, 4.728993730872364e-09)"
      ]
     },
     "execution_count": 4,
     "metadata": {},
     "output_type": "execute_result"
    }
   ],
   "source": [
    "max(diffs), sum(diffs) / 10000"
   ]
  },
  {
   "cell_type": "markdown",
   "metadata": {
    "collapsed": true
   },
   "source": [
    "# UK National Grid\n",
    "\n",
    "To support the Ordance Survey (raster) tiles, we need to use the [Ordnance Survey National Grid](https://en.wikipedia.org/wiki/Ordnance_Survey_National_Grid).\n",
    "\n",
    "- This is [EPSG:7405](http://www.spatialreference.org/ref/epsg/osgb36-british-national-grid-odn-height/)\n",
    "- We need to be careful, as the British National Grid uses a different ellipsoid (approximation to the shape of the Earth) than the \"usual\" GPS based on.\n",
    "- So we need to use the `transform` method of `pyproj`.  [Credit](https://osedok.wordpress.com/2012/01/17/conversion-of-british-national-grid-wkid27700-to-wgs84wkid4326-and-then-to-webmercator-wkid102100/)\n",
    "\n",
    "\n",
    "For example:\n",
    "- Corner of the Garstang Building at the university of Leeds has Lon/Lat coords -1.55532, 53.80474\n",
    "- See [OS Maps Online](https://osmaps.ordnancesurvey.co.uk/53.80474,-1.55532,17/pin)\n",
    "- Claims to be SE 29383 34363\n",
    "- [Land's end](https://osmaps.ordnancesurvey.co.uk/50.06942,-5.71808,17/pin)  -5.71808, 50.06942\n",
    "- Is SW 34041 25435\n",
    "- [John O'Groats](https://osmaps.ordnancesurvey.co.uk/58.64389,-3.02516,17/pin) -3.02516, 58.64389\n",
    "- Is ND 40594 73345\n",
    "\n",
    "\n",
    "Further information: https://www.ordnancesurvey.co.uk/business-and-government/help-and-support/navigation-technology/os-net/formats-for-developers.html"
   ]
  },
  {
   "cell_type": "code",
   "execution_count": 5,
   "metadata": {},
   "outputs": [
    {
     "name": "stdout",
     "output_type": "stream",
     "text": [
      "(429383.15535284596, 434363.0962840691)\n",
      "(134041.0757940985, 25435.90742218544)\n",
      "(340594.4899132418, 973345.1181793772)\n"
     ]
    }
   ],
   "source": [
    "import pyproj, functools\n",
    "\n",
    "bng = pyproj.Proj(init=\"epsg:27700\")\n",
    "wgs84 = pyproj.Proj(init=\"epsg:4326\")\n",
    "\n",
    "def project(lon, lat):\n",
    "    return pyproj.transform(wgs84, bng, lon, lat)\n",
    "\n",
    "print(project(-1.55532, 53.80474))\n",
    "print(project(-5.71808, 50.06942))\n",
    "print(project(-3.02516, 58.64389))"
   ]
  },
  {
   "cell_type": "code",
   "execution_count": null,
   "metadata": {
    "collapsed": true
   },
   "outputs": [],
   "source": []
  }
 ],
 "metadata": {
  "kernelspec": {
   "display_name": "Python 3",
   "language": "python",
   "name": "python3"
  },
  "language_info": {
   "codemirror_mode": {
    "name": "ipython",
    "version": 3
   },
   "file_extension": ".py",
   "mimetype": "text/x-python",
   "name": "python",
   "nbconvert_exporter": "python",
   "pygments_lexer": "ipython3",
   "version": "3.7.1"
  }
 },
 "nbformat": 4,
 "nbformat_minor": 2
}
