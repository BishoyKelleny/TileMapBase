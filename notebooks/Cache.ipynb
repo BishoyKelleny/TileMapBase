{
 "cells": [
  {
   "cell_type": "markdown",
   "metadata": {},
   "source": [
    "# Examine the cache\n",
    "\n",
    "You can examine the cache.  One particular use case for this is to remove corrupted tiles."
   ]
  },
  {
   "cell_type": "code",
   "execution_count": 1,
   "metadata": {
    "collapsed": false
   },
   "outputs": [],
   "source": [
    "import tilemapbase\n",
    "tilemapbase.init(create=True)\n",
    "cache = tilemapbase.get_cache()"
   ]
  },
  {
   "cell_type": "code",
   "execution_count": 2,
   "metadata": {
    "collapsed": false
   },
   "outputs": [
    {
     "data": {
      "text/plain": [
       "[(('OSM', 0, 0, 0), datetime.datetime(2017, 5, 15, 14, 46, 9)),\n",
       " (('OSM', 0, 1, 1), datetime.datetime(2017, 5, 15, 14, 46, 9)),\n",
       " (('OSM', 1, 0, 1), datetime.datetime(2017, 5, 15, 14, 50, 4)),\n",
       " (('OSM', 1, 1, 1), datetime.datetime(2017, 5, 15, 14, 55, 49))]"
      ]
     },
     "execution_count": 2,
     "metadata": {},
     "output_type": "execute_result"
    }
   ],
   "source": [
    "contents = cache.query()\n",
    "contents[:4]"
   ]
  },
  {
   "cell_type": "code",
   "execution_count": 3,
   "metadata": {
    "collapsed": false
   },
   "outputs": [],
   "source": [
    "# This dumps all file...\n",
    "\n",
    "import os\n",
    "os.mkdir(\"dump\")\n",
    "cache.dump(\"dump\")"
   ]
  },
  {
   "cell_type": "code",
   "execution_count": 3,
   "metadata": {
    "collapsed": false
   },
   "outputs": [
    {
     "data": {
      "image/png": "[encoded data removed]",
      "text/plain": [
       "<PIL.PngImagePlugin.PngImageFile image mode=P size=256x256 at 0x1B10843B358>"
      ]
     },
     "execution_count": 3,
     "metadata": {},
     "output_type": "execute_result"
    }
   ],
   "source": [
    "data, time = cache.get_from_cache(('OSM', 1, 1, 1))\n",
    "\n",
    "import io, PIL.Image\n",
    "file = io.BytesIO(data)\n",
    "PIL.Image.open(file)"
   ]
  }
 ],
 "metadata": {
  "kernelspec": {
   "display_name": "Python 3",
   "language": "python",
   "name": "python3"
  },
  "language_info": {
   "codemirror_mode": {
    "name": "ipython",
    "version": 3
   },
   "file_extension": ".py",
   "mimetype": "text/x-python",
   "name": "python",
   "nbconvert_exporter": "python",
   "pygments_lexer": "ipython3",
   "version": "3.6.0"
  }
 },
 "nbformat": 4,
 "nbformat_minor": 2
}
